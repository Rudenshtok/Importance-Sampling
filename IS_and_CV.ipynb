{
 "cells": [
  {
   "cell_type": "code",
   "execution_count": 1,
   "metadata": {},
   "outputs": [],
   "source": [
    "import numpy as np\n",
    "import math\n",
    "import seaborn as sns\n",
    "import random\n",
    "from matplotlib import pyplot as plt\n",
    "from IPython.display import clear_output\n",
    "from scipy import special\n",
    "from tqdm import tqdm_notebook\n",
    "%matplotlib inline\n",
    "r_seed = 1812\n",
    "num_samples = 5000"
   ]
  },
  {
   "cell_type": "markdown",
   "metadata": {},
   "source": [
    "## Function"
   ]
  },
  {
   "cell_type": "code",
   "execution_count": 2,
   "metadata": {},
   "outputs": [],
   "source": [
    "def f_x (x) :\n",
    "    f = (x**4 + (x-2)**2)\n",
    "    return f"
   ]
  },
  {
   "cell_type": "code",
   "execution_count": 3,
   "metadata": {
    "scrolled": true
   },
   "outputs": [
    {
     "data": {
      "image/png": "[encoded data removed]",
      "text/plain": [
       "<Figure size 432x288 with 1 Axes>"
      ]
     },
     "metadata": {
      "needs_background": "light"
     },
     "output_type": "display_data"
    }
   ],
   "source": [
    "plt.ioff()\n",
    "x = np.arange(-10, 11)\n",
    "f = x**4 + (x-2)**2\n",
    "fig, ax = plt.subplots()\n",
    " \n",
    "ax.plot(x, f, linestyle='solid')\n",
    " \n",
    "lgnd = ax.legend(['f(x)=x^4+(x-2)^2'], loc='upper left', shadow=True)\n",
    "lgnd.get_frame().set_facecolor('#ffb19a')\n",
    " \n",
    "plt.show()"
   ]
  },
  {
   "cell_type": "markdown",
   "metadata": {},
   "source": [
    "# MC"
   ]
  },
  {
   "cell_type": "code",
   "execution_count": 4,
   "metadata": {},
   "outputs": [],
   "source": [
    "def f_x_(x) :\n",
    "    x1 = np.random.randint(0, x.size - 1)\n",
    "    y = x[x1]\n",
    "    return(y**4 + (y-2)**2)"
   ]
  },
  {
   "cell_type": "code",
   "execution_count": 5,
   "metadata": {},
   "outputs": [],
   "source": [
    "sample_size = 5000\n",
    "sigma = 0.4\n",
    "mu_1 = 1\n",
    "mu_2 = -2\n",
    "np.random.seed(r_seed)\n",
    "X1 = sigma * np.random.randn(sample_size) + mu_1\n",
    "X2 = sigma * np.random.randn(sample_size) + mu_2\n",
    "flag = np.random.binomial(1,0.5,size = sample_size)\n",
    "X = flag*X1 + (1-flag)*X2"
   ]
  },
  {
   "cell_type": "code",
   "execution_count": 6,
   "metadata": {},
   "outputs": [],
   "source": [
    "def MC (num_samples, r_seed):\n",
    "    s = 0\n",
    "    for i in range(num_samples) :\n",
    "        s = s + f_x_(X)\n",
    "    res = s/num_samples\n",
    "    return (res)"
   ]
  },
  {
   "cell_type": "code",
   "execution_count": 7,
   "metadata": {},
   "outputs": [
    {
     "name": "stdout",
     "output_type": "stream",
     "text": [
      "[19.78995332 19.18607054 18.99629724 19.62528514 19.9573849  19.49587622\n",
      " 20.1831795  19.31084522 19.41535137 19.15440287 19.31554925 20.21316655\n",
      " 19.32519433 19.60924312 19.47627847 19.99836683 19.7379323  19.54782775\n",
      " 19.45639397 19.48607318 19.89222754 19.26562753 19.4802064  19.55952931\n",
      " 19.92797471 19.1602664  19.74857539 19.05654773 20.42835541 19.15239377\n",
      " 18.89843845 19.59983872 19.47770492 20.10913878 20.07484201 19.33191657\n",
      " 19.80431067 19.52918322 19.47653425 19.50628565 19.58900263 19.07006935\n",
      " 18.88997436 20.08530655 19.51128425 19.58130936 19.97026672 19.27607497\n",
      " 19.71204213 19.4837657  19.26728407 19.81055426 19.36051652 20.17386904\n",
      " 19.40468003 20.02895994 19.91007695 19.24197881 19.78117534 20.00005345\n",
      " 19.49223205 19.80981066 19.61876142 19.34062256 19.73091482 19.64529397\n",
      " 19.8188527  19.97268392 19.78481254 19.69420748 19.57014942 19.26546425\n",
      " 19.00045858 20.07473728 19.92678252 19.74746819 19.77947119 19.05718283\n",
      " 19.26391774 19.74941131 19.62878773 19.02813324 19.74947193 19.34535025\n",
      " 19.84133478 19.48451099 19.59638792 19.39211991 19.67055907 19.17684861\n",
      " 20.19314876 19.93402168 19.11644427 19.86230473 19.83963727 19.34423098\n",
      " 19.72869597 19.66795723 19.26345484 19.15183086]\n"
     ]
    }
   ],
   "source": [
    "buf0 = np.zeros((100,2),dtype = float)\n",
    "r_seed = 1812\n",
    "num_samples = 5000\n",
    "\n",
    "for i in range(100):\n",
    "    buf0[i] = MC(num_samples, r_seed+i)\n",
    "\n",
    "print(buf0[:,0])"
   ]
  },
  {
   "cell_type": "code",
   "execution_count": 8,
   "metadata": {},
   "outputs": [
    {
     "data": {
      "image/png": "[encoded data removed]",
      "text/plain": [
       "<Figure size 432x288 with 1 Axes>"
      ]
     },
     "metadata": {
      "needs_background": "light"
     },
     "output_type": "display_data"
    }
   ],
   "source": [
    "%matplotlib inline\n",
    "ax = sns.boxplot(x = buf0[:,0])\n",
    "plt.show()"
   ]
  },
  {
   "cell_type": "markdown",
   "metadata": {},
   "source": [
    "# MC in the range"
   ]
  },
  {
   "cell_type": "code",
   "execution_count": 9,
   "metadata": {},
   "outputs": [],
   "source": [
    "def fun_x (x) :\n",
    "    return (1/(2*np.sqrt(2*np.pi)*0.4))*f_x(x)*((np.exp((-(x-1)**2/0.32)))+(np.exp((-(x+2)**2/0.32))))"
   ]
  },
  {
   "cell_type": "code",
   "execution_count": 10,
   "metadata": {},
   "outputs": [],
   "source": [
    "def IS (num_samples, r_seed) :\n",
    "    start = -4\n",
    "    end = 4\n",
    "    np.random.seed(r_seed)\n",
    "    x_arr = np.random.uniform(low=start, high=end, size=num_samples)\n",
    "    f_vals = (end - start)*fun_x(x_arr)\n",
    "    var = np.var(f_vals)/num_samples\n",
    "    mean = np.mean(f_vals)\n",
    "    return (mean,var)"
   ]
  },
  {
   "cell_type": "code",
   "execution_count": 11,
   "metadata": {},
   "outputs": [
    {
     "name": "stdout",
     "output_type": "stream",
     "text": [
      "[19.53882796 19.22081565 20.04998172 20.28875177 19.62466492 19.09014778\n",
      " 18.83137547 19.43904305 19.42546515 19.58387287 19.23535202 19.56699548\n",
      " 19.23219583 18.2512752  19.40937499 19.14089814 19.90177119 19.10272837\n",
      " 18.99279402 20.17854843 19.61660249 19.84350651 19.79520494 19.90638896\n",
      " 19.68003567 20.24081063 19.1354165  20.15086915 20.02359015 19.97538471\n",
      " 20.1050276  18.80401713 19.49070981 19.77567699 19.48223848 19.23639902\n",
      " 20.42722646 18.84998798 19.55327966 19.28556425 19.27417919 20.51528552\n",
      " 19.262895   19.88653619 20.39429881 18.20473442 19.47825148 19.96891186\n",
      " 20.00547665 19.57353367 18.9282407  19.38683006 19.05567501 18.55763144\n",
      " 19.22231527 19.37658139 18.65490309 19.06268155 19.5849755  19.96955746\n",
      " 18.71267301 19.53537872 19.37315472 19.22364213 20.90264675 20.28667399\n",
      " 19.66071171 19.0507813  20.07186756 19.85133089 18.73910214 20.70559707\n",
      " 19.41626121 19.86830196 19.30424296 19.87035886 19.86585873 18.83006155\n",
      " 19.68181844 19.59289295 19.93333349 19.77130859 19.98023429 19.11394719\n",
      " 19.75309209 19.15532146 19.99070525 19.59372553 19.48872701 19.30340242\n",
      " 19.43429117 19.557866   19.83933407 20.010861   19.20346433 19.03282117\n",
      " 19.38877548 19.95522011 20.64728675 19.28121507]\n"
     ]
    }
   ],
   "source": [
    "buf = np.zeros((100,2),dtype = float)\n",
    "r_seed = 1812\n",
    "num_samples = 5000\n",
    "\n",
    "for i in range(100):\n",
    "    buf[i] = IS(num_samples,r_seed+i)\n",
    "    \n",
    "print(buf[:,0])"
   ]
  },
  {
   "cell_type": "code",
   "execution_count": 12,
   "metadata": {},
   "outputs": [
    {
     "data": {
      "image/png": "[encoded data removed]",
      "text/plain": [
       "<Figure size 432x288 with 1 Axes>"
      ]
     },
     "metadata": {
      "needs_background": "light"
     },
     "output_type": "display_data"
    }
   ],
   "source": [
    "%matplotlib inline\n",
    "ax = sns.boxplot(x = buf[:,0])\n",
    "plt.show()"
   ]
  },
  {
   "cell_type": "code",
   "execution_count": 13,
   "metadata": {},
   "outputs": [],
   "source": [
    "def funp_x (x) :\n",
    "    x1 = np.random.randint(0, x.size - 1)\n",
    "    y = x[x1]\n",
    "    return ((3.2/math.sqrt(2*np.pi))*np.exp(-((y-1.35)**2)/0.3))"
   ]
  },
  {
   "cell_type": "markdown",
   "metadata": {},
   "source": [
    "# ISp"
   ]
  },
  {
   "cell_type": "code",
   "execution_count": 14,
   "metadata": {},
   "outputs": [],
   "source": [
    "sample_size = 5000\n",
    "sigma = 0.4\n",
    "mu_1 = 1\n",
    "mu_2 = -2\n",
    "np.random.seed(r_seed)\n",
    "X1 = sigma * np.random.randn(sample_size) + mu_1\n",
    "X2 = sigma * np.random.randn(sample_size) + mu_2\n",
    "flag = np.random.binomial(1,0.5,size = sample_size)\n",
    "X = flag*X1 + (1-flag)*X2"
   ]
  },
  {
   "cell_type": "code",
   "execution_count": 15,
   "metadata": {},
   "outputs": [],
   "source": [
    "def f_x_(x) :\n",
    "    x1 = np.random.randint(0, x.size - 1)\n",
    "    y = x[x1]\n",
    "    return (y**4 + (y-2)**2)"
   ]
  },
  {
   "cell_type": "code",
   "execution_count": 16,
   "metadata": {},
   "outputs": [],
   "source": [
    "def pi (x) :\n",
    "    x1 = np.random.randint(0, x.size - 1)\n",
    "    y = x[x1]\n",
    "    function = (1/(2*np.sqrt(2*np.pi)*0.4))*(np.exp(-(y-1)**2/0.32)+np.exp(-(y+2)**2/0.32))\n",
    "    return (function)"
   ]
  },
  {
   "cell_type": "code",
   "execution_count": 17,
   "metadata": {},
   "outputs": [],
   "source": [
    "def g_x (x, lamda, A) :\n",
    "    x1 = np.random.randint(0, x.size - 1)\n",
    "    y = x[x1]\n",
    "    function = A*np.exp(-lamda*y)\n",
    "    return (function)"
   ]
  },
  {
   "cell_type": "code",
   "execution_count": 18,
   "metadata": {},
   "outputs": [],
   "source": [
    "def get_IS_variance(lamda, A, num_samples):\n",
    "    \n",
    "    # get sum of squares\n",
    "    running_total = 0\n",
    "    for i in range(num_samples):\n",
    "        running_total +=(f_x_(X)/g_x (X, lamda, A))**2\n",
    "    \n",
    "    sum_of_sqs = running_total / num_samples\n",
    "    \n",
    "    # get squared average\n",
    "    running_total = 0\n",
    "    for i in range(num_samples):\n",
    "        running_total += f_x_(X)/g_x (X, lamda, A)\n",
    "    sq_ave = (running_total/num_samples)**2\n",
    "    \n",
    "    \n",
    "    return sum_of_sqs - sq_ave"
   ]
  },
  {
   "cell_type": "code",
   "execution_count": 19,
   "metadata": {},
   "outputs": [
    {
     "name": "stdout",
     "output_type": "stream",
     "text": [
      "Optimal Lambda: 0.7000000000000001\n",
      "Optimal A: 1.0\n",
      "Optimal Variance: 2463.8958995849753\n",
      "0.7019823216556063\n"
     ]
    }
   ],
   "source": [
    "test_lamdas = [i*0.05 for i in range(1, 61)]\n",
    "test_A = [i*0.05 for i in range(1, 61)]\n",
    "variances = []\n",
    "\n",
    "for i in range(60):\n",
    "    for j in range(60):\n",
    "        print(f\"lambda {i+1}/{60}: {test_lamdas[i]}\")\n",
    "        print(f\"A {j+1}/{60}: {test_A[j]}\")\n",
    "        variances.append(get_IS_variance(test_lamdas[i], test_A[i], 5000))\n",
    "        clear_output(wait=True)\n",
    "\n",
    "min_var = np.argmin(np.asarray(variances))\n",
    "optimal_lamda = test_lamdas[min_var // 60]\n",
    "optimal_A = test_A [min_var % 60]\n",
    "IS_variance = variances[np.argmin(np.asarray(variances))]\n",
    "\n",
    "print(f\"Optimal Lambda: {optimal_lamda}\")\n",
    "print(f\"Optimal A: {optimal_A}\")\n",
    "print(f\"Optimal Variance: {IS_variance}\")\n",
    "print((IS_variance/5000)**0.5)"
   ]
  },
  {
   "cell_type": "code",
   "execution_count": 52,
   "metadata": {},
   "outputs": [],
   "source": [
    "def g1_x (x) :\n",
    "    x1 = np.random.randint(0, x.size - 1)\n",
    "    y = x[x1]\n",
    "    function = 1.189*np.exp(-0.70000000001*y)\n",
    "    return (function)"
   ]
  },
  {
   "cell_type": "code",
   "execution_count": 26,
   "metadata": {},
   "outputs": [
    {
     "data": {
      "image/png": "[encoded data removed]",
      "text/plain": [
       "<Figure size 432x288 with 1 Axes>"
      ]
     },
     "metadata": {
      "needs_background": "light"
     },
     "output_type": "display_data"
    }
   ],
   "source": [
    "xs = [float(i/50) for i in range(int(50*np.pi))]\n",
    "fs = [x**4 + (x-2)**2 for x in xs]\n",
    "gs = [0.55*np.exp(-0.75*x) for x in xs]\n",
    "plt.plot(xs, fs)\n",
    "plt.plot(xs, gs)\n",
    "plt.title(\"f(x) and g(x)\");"
   ]
  },
  {
   "cell_type": "code",
   "execution_count": 31,
   "metadata": {},
   "outputs": [],
   "source": [
    "def ISp (num_samples, r_seed):\n",
    "    s = 0\n",
    "    for i in range (num_samples):\n",
    "        s = s + (f_x_(X)/g1_x(X))\n",
    "    res = s/num_samples\n",
    "    var = np.var(s)/num_samples\n",
    "    return (res, var)"
   ]
  },
  {
   "cell_type": "code",
   "execution_count": 53,
   "metadata": {},
   "outputs": [
    {
     "name": "stdout",
     "output_type": "stream",
     "text": [
      "[19.76076087 19.45481045 19.29017623 19.69714318 19.75570599 20.30662266\n",
      " 19.88751459 19.61969519 20.31788134 20.01666339 19.42162622 20.02235566\n",
      " 20.29478926 19.37697233 20.090827   19.94909003 19.83229709 19.1564818\n",
      " 20.05782883 19.77924329 19.52472692 20.5885496  19.05099034 18.76365946\n",
      " 18.92906838 19.3086739  19.58989893 19.53149446 19.24369721 19.36782522\n",
      " 18.98623945 19.85775759 19.25764941 19.67557877 19.72634724 18.90612484\n",
      " 19.84156865 19.42032247 19.58485977 19.54962571 19.5617668  19.67539745\n",
      " 19.46638656 19.22345723 19.9401627  19.15385964 19.50610449 19.36579851\n",
      " 19.63222492 19.05305653 19.37189088 19.839823   18.9887824  19.15025206\n",
      " 19.11318342 19.74432345 19.32336991 18.8446765  20.32484214 20.34669686\n",
      " 19.92333615 18.72300406 19.23584913 20.25002982 19.35668565 19.03252356\n",
      " 20.2556497  19.17934565 18.79628393 20.10543456 20.23188384 19.91214312\n",
      " 20.65987568 19.10574915 20.10849525 19.43022526 19.62618455 19.29948551\n",
      " 19.17076542 19.10167748 19.68840765 19.80335954 20.02420049 19.57766445\n",
      " 20.4625277  20.20361803 20.26252623 18.85072815 19.55198788 19.59830807\n",
      " 19.95514857 19.7022336  20.0816786  19.83900273 19.94277502 20.07364895\n",
      " 19.79317305 18.87913535 19.51415748 19.2604412 ]\n"
     ]
    }
   ],
   "source": [
    "buf2 = np.zeros((100,2),dtype = float)\n",
    "r_seed = 1812\n",
    "num_samples = 5000\n",
    "\n",
    "for i in range(100):\n",
    "    buf2[i] = ISp(num_samples,r_seed+i)\n",
    "    \n",
    "print(buf2[:,0])"
   ]
  },
  {
   "cell_type": "code",
   "execution_count": 54,
   "metadata": {},
   "outputs": [
    {
     "data": {
      "image/png": "[encoded data removed]",
      "text/plain": [
       "<Figure size 432x288 with 1 Axes>"
      ]
     },
     "metadata": {
      "needs_background": "light"
     },
     "output_type": "display_data"
    }
   ],
   "source": [
    "%matplotlib inline\n",
    "ax = sns.boxplot(x = buf2[:,0])\n",
    "plt.show()"
   ]
  },
  {
   "cell_type": "code",
   "execution_count": null,
   "metadata": {},
   "outputs": [],
   "source": []
  }
 ],
 "metadata": {
  "kernelspec": {
   "display_name": "Python 3",
   "language": "python",
   "name": "python3"
  },
  "language_info": {
   "codemirror_mode": {
    "name": "ipython",
    "version": 3
   },
   "file_extension": ".py",
   "mimetype": "text/x-python",
   "name": "python",
   "nbconvert_exporter": "python",
   "pygments_lexer": "ipython3",
   "version": "3.8.3"
  }
 },
 "nbformat": 4,
 "nbformat_minor": 4
}
