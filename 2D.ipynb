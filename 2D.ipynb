{
  "nbformat": 4,
  "nbformat_minor": 0,
  "metadata": {
    "kernelspec": {
      "display_name": "Python 3",
      "language": "python",
      "name": "python3"
    },
    "language_info": {
      "codemirror_mode": {
        "name": "ipython",
        "version": 3
      },
      "file_extension": ".py",
      "mimetype": "text/x-python",
      "name": "python",
      "nbconvert_exporter": "python",
      "pygments_lexer": "ipython3",
      "version": "3.7.3"
    },
    "colab": {
      "name": "2D.ipynb",
      "provenance": []
    },
    "widgets": {
      "application/vnd.jupyter.widget-state+json": {
        "08d93f02af1740628c1733d5c65d9c89": {
          "model_module": "@jupyter-widgets/controls",
          "model_name": "HBoxModel",
          "state": {
            "_view_name": "HBoxView",
            "_dom_classes": [],
            "_model_name": "HBoxModel",
            "_view_module": "@jupyter-widgets/controls",
            "_model_module_version": "1.5.0",
            "_view_count": null,
            "_view_module_version": "1.5.0",
            "box_style": "",
            "layout": "IPY_MODEL_fed2b938109b4926a3566c0bbadf4ef2",
            "_model_module": "@jupyter-widgets/controls",
            "children": [
              "IPY_MODEL_7ae81007e3de46ef8f641ed1c4ad2ebd",
              "IPY_MODEL_a29844a43b0640288434e18055b9fe53"
            ]
          }
        },
        "fed2b938109b4926a3566c0bbadf4ef2": {
          "model_module": "@jupyter-widgets/base",
          "model_name": "LayoutModel",
          "state": {
            "_view_name": "LayoutView",
            "grid_template_rows": null,
            "right": null,
            "justify_content": null,
            "_view_module": "@jupyter-widgets/base",
            "overflow": null,
            "_model_module_version": "1.2.0",
            "_view_count": null,
            "flex_flow": null,
            "width": null,
            "min_width": null,
            "border": null,
            "align_items": null,
            "bottom": null,
            "_model_module": "@jupyter-widgets/base",
            "top": null,
            "grid_column": null,
            "overflow_y": null,
            "overflow_x": null,
            "grid_auto_flow": null,
            "grid_area": null,
            "grid_template_columns": null,
            "flex": null,
            "_model_name": "LayoutModel",
            "justify_items": null,
            "grid_row": null,
            "max_height": null,
            "align_content": null,
            "visibility": null,
            "align_self": null,
            "height": null,
            "min_height": null,
            "padding": null,
            "grid_auto_rows": null,
            "grid_gap": null,
            "max_width": null,
            "order": null,
            "_view_module_version": "1.2.0",
            "grid_template_areas": null,
            "object_position": null,
            "object_fit": null,
            "grid_auto_columns": null,
            "margin": null,
            "display": null,
            "left": null
          }
        },
        "7ae81007e3de46ef8f641ed1c4ad2ebd": {
          "model_module": "@jupyter-widgets/controls",
          "model_name": "FloatProgressModel",
          "state": {
            "_view_name": "ProgressView",
            "style": "IPY_MODEL_2d84a95c918041d198a0c4d3245091da",
            "_dom_classes": [],
            "description": "100%",
            "_model_name": "FloatProgressModel",
            "bar_style": "success",
            "max": 22000,
            "_view_module": "@jupyter-widgets/controls",
            "_model_module_version": "1.5.0",
            "value": 22000,
            "_view_count": null,
            "_view_module_version": "1.5.0",
            "orientation": "horizontal",
            "min": 0,
            "description_tooltip": null,
            "_model_module": "@jupyter-widgets/controls",
            "layout": "IPY_MODEL_efe09a9b956248429f455add9b4b0b92"
          }
        },
        "a29844a43b0640288434e18055b9fe53": {
          "model_module": "@jupyter-widgets/controls",
          "model_name": "HTMLModel",
          "state": {
            "_view_name": "HTMLView",
            "style": "IPY_MODEL_4071eca114064dc6af51d2a753f410aa",
            "_dom_classes": [],
            "description": "",
            "_model_name": "HTMLModel",
            "placeholder": "​",
            "_view_module": "@jupyter-widgets/controls",
            "_model_module_version": "1.5.0",
            "value": " 22000/22000 [01:11&lt;00:00, 309.04it/s]",
            "_view_count": null,
            "_view_module_version": "1.5.0",
            "description_tooltip": null,
            "_model_module": "@jupyter-widgets/controls",
            "layout": "IPY_MODEL_cd3e1cdabf7a4b2abb74a25d1083de68"
          }
        },
        "2d84a95c918041d198a0c4d3245091da": {
          "model_module": "@jupyter-widgets/controls",
          "model_name": "ProgressStyleModel",
          "state": {
            "_view_name": "StyleView",
            "_model_name": "ProgressStyleModel",
            "description_width": "initial",
            "_view_module": "@jupyter-widgets/base",
            "_model_module_version": "1.5.0",
            "_view_count": null,
            "_view_module_version": "1.2.0",
            "bar_color": null,
            "_model_module": "@jupyter-widgets/controls"
          }
        },
        "efe09a9b956248429f455add9b4b0b92": {
          "model_module": "@jupyter-widgets/base",
          "model_name": "LayoutModel",
          "state": {
            "_view_name": "LayoutView",
            "grid_template_rows": null,
            "right": null,
            "justify_content": null,
            "_view_module": "@jupyter-widgets/base",
            "overflow": null,
            "_model_module_version": "1.2.0",
            "_view_count": null,
            "flex_flow": null,
            "width": null,
            "min_width": null,
            "border": null,
            "align_items": null,
            "bottom": null,
            "_model_module": "@jupyter-widgets/base",
            "top": null,
            "grid_column": null,
            "overflow_y": null,
            "overflow_x": null,
            "grid_auto_flow": null,
            "grid_area": null,
            "grid_template_columns": null,
            "flex": null,
            "_model_name": "LayoutModel",
            "justify_items": null,
            "grid_row": null,
            "max_height": null,
            "align_content": null,
            "visibility": null,
            "align_self": null,
            "height": null,
            "min_height": null,
            "padding": null,
            "grid_auto_rows": null,
            "grid_gap": null,
            "max_width": null,
            "order": null,
            "_view_module_version": "1.2.0",
            "grid_template_areas": null,
            "object_position": null,
            "object_fit": null,
            "grid_auto_columns": null,
            "margin": null,
            "display": null,
            "left": null
          }
        },
        "4071eca114064dc6af51d2a753f410aa": {
          "model_module": "@jupyter-widgets/controls",
          "model_name": "DescriptionStyleModel",
          "state": {
            "_view_name": "StyleView",
            "_model_name": "DescriptionStyleModel",
            "description_width": "",
            "_view_module": "@jupyter-widgets/base",
            "_model_module_version": "1.5.0",
            "_view_count": null,
            "_view_module_version": "1.2.0",
            "_model_module": "@jupyter-widgets/controls"
          }
        },
        "cd3e1cdabf7a4b2abb74a25d1083de68": {
          "model_module": "@jupyter-widgets/base",
          "model_name": "LayoutModel",
          "state": {
            "_view_name": "LayoutView",
            "grid_template_rows": null,
            "right": null,
            "justify_content": null,
            "_view_module": "@jupyter-widgets/base",
            "overflow": null,
            "_model_module_version": "1.2.0",
            "_view_count": null,
            "flex_flow": null,
            "width": null,
            "min_width": null,
            "border": null,
            "align_items": null,
            "bottom": null,
            "_model_module": "@jupyter-widgets/base",
            "top": null,
            "grid_column": null,
            "overflow_y": null,
            "overflow_x": null,
            "grid_auto_flow": null,
            "grid_area": null,
            "grid_template_columns": null,
            "flex": null,
            "_model_name": "LayoutModel",
            "justify_items": null,
            "grid_row": null,
            "max_height": null,
            "align_content": null,
            "visibility": null,
            "align_self": null,
            "height": null,
            "min_height": null,
            "padding": null,
            "grid_auto_rows": null,
            "grid_gap": null,
            "max_width": null,
            "order": null,
            "_view_module_version": "1.2.0",
            "grid_template_areas": null,
            "object_position": null,
            "object_fit": null,
            "grid_auto_columns": null,
            "margin": null,
            "display": null,
            "left": null
          }
        },
        "0b8e37bd02364468be7d24ab1b810346": {
          "model_module": "@jupyter-widgets/controls",
          "model_name": "HBoxModel",
          "state": {
            "_view_name": "HBoxView",
            "_dom_classes": [],
            "_model_name": "HBoxModel",
            "_view_module": "@jupyter-widgets/controls",
            "_model_module_version": "1.5.0",
            "_view_count": null,
            "_view_module_version": "1.5.0",
            "box_style": "",
            "layout": "IPY_MODEL_e2aed3b9ff784575958733a7425b0184",
            "_model_module": "@jupyter-widgets/controls",
            "children": [
              "IPY_MODEL_0dd209d45ac044e08a0701c6d278f82c",
              "IPY_MODEL_fbff711b64954004ad482e88b2b0a81a"
            ]
          }
        },
        "e2aed3b9ff784575958733a7425b0184": {
          "model_module": "@jupyter-widgets/base",
          "model_name": "LayoutModel",
          "state": {
            "_view_name": "LayoutView",
            "grid_template_rows": null,
            "right": null,
            "justify_content": null,
            "_view_module": "@jupyter-widgets/base",
            "overflow": null,
            "_model_module_version": "1.2.0",
            "_view_count": null,
            "flex_flow": null,
            "width": null,
            "min_width": null,
            "border": null,
            "align_items": null,
            "bottom": null,
            "_model_module": "@jupyter-widgets/base",
            "top": null,
            "grid_column": null,
            "overflow_y": null,
            "overflow_x": null,
            "grid_auto_flow": null,
            "grid_area": null,
            "grid_template_columns": null,
            "flex": null,
            "_model_name": "LayoutModel",
            "justify_items": null,
            "grid_row": null,
            "max_height": null,
            "align_content": null,
            "visibility": null,
            "align_self": null,
            "height": null,
            "min_height": null,
            "padding": null,
            "grid_auto_rows": null,
            "grid_gap": null,
            "max_width": null,
            "order": null,
            "_view_module_version": "1.2.0",
            "grid_template_areas": null,
            "object_position": null,
            "object_fit": null,
            "grid_auto_columns": null,
            "margin": null,
            "display": null,
            "left": null
          }
        },
        "0dd209d45ac044e08a0701c6d278f82c": {
          "model_module": "@jupyter-widgets/controls",
          "model_name": "FloatProgressModel",
          "state": {
            "_view_name": "ProgressView",
            "style": "IPY_MODEL_a855a66b19354c27a88b9c6a81432d83",
            "_dom_classes": [],
            "description": "100%",
            "_model_name": "FloatProgressModel",
            "bar_style": "success",
            "max": 100,
            "_view_module": "@jupyter-widgets/controls",
            "_model_module_version": "1.5.0",
            "value": 100,
            "_view_count": null,
            "_view_module_version": "1.5.0",
            "orientation": "horizontal",
            "min": 0,
            "description_tooltip": null,
            "_model_module": "@jupyter-widgets/controls",
            "layout": "IPY_MODEL_fac328dde93248b49972808035bc97a6"
          }
        },
        "fbff711b64954004ad482e88b2b0a81a": {
          "model_module": "@jupyter-widgets/controls",
          "model_name": "HTMLModel",
          "state": {
            "_view_name": "HTMLView",
            "style": "IPY_MODEL_08f706b0424843cdb80822254e13f692",
            "_dom_classes": [],
            "description": "",
            "_model_name": "HTMLModel",
            "placeholder": "​",
            "_view_module": "@jupyter-widgets/controls",
            "_model_module_version": "1.5.0",
            "value": " 100/100 [02:44&lt;00:00,  1.64s/it]",
            "_view_count": null,
            "_view_module_version": "1.5.0",
            "description_tooltip": null,
            "_model_module": "@jupyter-widgets/controls",
            "layout": "IPY_MODEL_66de6032470e4ac0974f7c69767392ec"
          }
        },
        "a855a66b19354c27a88b9c6a81432d83": {
          "model_module": "@jupyter-widgets/controls",
          "model_name": "ProgressStyleModel",
          "state": {
            "_view_name": "StyleView",
            "_model_name": "ProgressStyleModel",
            "description_width": "initial",
            "_view_module": "@jupyter-widgets/base",
            "_model_module_version": "1.5.0",
            "_view_count": null,
            "_view_module_version": "1.2.0",
            "bar_color": null,
            "_model_module": "@jupyter-widgets/controls"
          }
        },
        "fac328dde93248b49972808035bc97a6": {
          "model_module": "@jupyter-widgets/base",
          "model_name": "LayoutModel",
          "state": {
            "_view_name": "LayoutView",
            "grid_template_rows": null,
            "right": null,
            "justify_content": null,
            "_view_module": "@jupyter-widgets/base",
            "overflow": null,
            "_model_module_version": "1.2.0",
            "_view_count": null,
            "flex_flow": null,
            "width": null,
            "min_width": null,
            "border": null,
            "align_items": null,
            "bottom": null,
            "_model_module": "@jupyter-widgets/base",
            "top": null,
            "grid_column": null,
            "overflow_y": null,
            "overflow_x": null,
            "grid_auto_flow": null,
            "grid_area": null,
            "grid_template_columns": null,
            "flex": null,
            "_model_name": "LayoutModel",
            "justify_items": null,
            "grid_row": null,
            "max_height": null,
            "align_content": null,
            "visibility": null,
            "align_self": null,
            "height": null,
            "min_height": null,
            "padding": null,
            "grid_auto_rows": null,
            "grid_gap": null,
            "max_width": null,
            "order": null,
            "_view_module_version": "1.2.0",
            "grid_template_areas": null,
            "object_position": null,
            "object_fit": null,
            "grid_auto_columns": null,
            "margin": null,
            "display": null,
            "left": null
          }
        },
        "08f706b0424843cdb80822254e13f692": {
          "model_module": "@jupyter-widgets/controls",
          "model_name": "DescriptionStyleModel",
          "state": {
            "_view_name": "StyleView",
            "_model_name": "DescriptionStyleModel",
            "description_width": "",
            "_view_module": "@jupyter-widgets/base",
            "_model_module_version": "1.5.0",
            "_view_count": null,
            "_view_module_version": "1.2.0",
            "_model_module": "@jupyter-widgets/controls"
          }
        },
        "66de6032470e4ac0974f7c69767392ec": {
          "model_module": "@jupyter-widgets/base",
          "model_name": "LayoutModel",
          "state": {
            "_view_name": "LayoutView",
            "grid_template_rows": null,
            "right": null,
            "justify_content": null,
            "_view_module": "@jupyter-widgets/base",
            "overflow": null,
            "_model_module_version": "1.2.0",
            "_view_count": null,
            "flex_flow": null,
            "width": null,
            "min_width": null,
            "border": null,
            "align_items": null,
            "bottom": null,
            "_model_module": "@jupyter-widgets/base",
            "top": null,
            "grid_column": null,
            "overflow_y": null,
            "overflow_x": null,
            "grid_auto_flow": null,
            "grid_area": null,
            "grid_template_columns": null,
            "flex": null,
            "_model_name": "LayoutModel",
            "justify_items": null,
            "grid_row": null,
            "max_height": null,
            "align_content": null,
            "visibility": null,
            "align_self": null,
            "height": null,
            "min_height": null,
            "padding": null,
            "grid_auto_rows": null,
            "grid_gap": null,
            "max_width": null,
            "order": null,
            "_view_module_version": "1.2.0",
            "grid_template_areas": null,
            "object_position": null,
            "object_fit": null,
            "grid_auto_columns": null,
            "margin": null,
            "display": null,
            "left": null
          }
        }
      }
    }
  },
  "cells": [
    {
      "cell_type": "code",
      "metadata": {
        "id": "xdDqUfP47rrf",
        "colab_type": "code",
        "colab": {}
      },
      "source": [
        "import numpy as np\n",
        "from scipy import special\n",
        "import torch\n",
        "from torch import nn\n",
        "import matplotlib.pyplot as plt\n",
        "from tqdm import tqdm_notebook\n",
        "%matplotlib inline"
      ],
      "execution_count": 1,
      "outputs": []
    },
    {
      "cell_type": "code",
      "metadata": {
        "id": "KU0Ygljw7rrr",
        "colab_type": "code",
        "colab": {}
      },
      "source": [
        "def mixture_sampler(means, covs, p, size=1):\n",
        "    sample = []\n",
        "    for _ in range(size):\n",
        "        i = np.random.choice(np.arange(len(p)), p=p)\n",
        "        sample.append(np.random.multivariate_normal(mean=means[i], cov=np.diag(covs[i])))\n",
        "    return np.vstack(sample)"
      ],
      "execution_count": 2,
      "outputs": []
    },
    {
      "cell_type": "code",
      "metadata": {
        "id": "G5F1vbV-7rrw",
        "colab_type": "code",
        "colab": {}
      },
      "source": [
        "p = torch.tensor([0.5, 0.5])\n",
        "covs = torch.tensor([[2., 1.],\n",
        "                       [1., 2.]])\n",
        "means = torch.tensor([[-2., -3.],\n",
        "                      [3., 2.,]])"
      ],
      "execution_count": 3,
      "outputs": []
    },
    {
      "cell_type": "code",
      "metadata": {
        "id": "YYUTuUcL7rr3",
        "colab_type": "code",
        "colab": {}
      },
      "source": [
        "np.random.seed(42)\n",
        "X = torch.tensor(mixture_sampler(means.numpy(), covs.numpy(), p.numpy(), 1000),\n",
        "                 dtype=torch.float32, requires_grad=True)\n",
        "f_X = torch.pow(X[:, 0], 3) * torch.pow(X[:, 1], 2)"
      ],
      "execution_count": 4,
      "outputs": []
    },
    {
      "cell_type": "code",
      "metadata": {
        "id": "dodlB3-67rr6",
        "colab_type": "code",
        "colab": {
          "base_uri": "https://localhost:8080/",
          "height": 265
        },
        "outputId": "ae3645a1-c46a-4ad9-f53e-0a88b10e2f8c"
      },
      "source": [
        "plt.scatter(X.detach()[:, 0], X.detach()[:, 1]);"
      ],
      "execution_count": 5,
      "outputs": [
        {
          "output_type": "display_data",
          "data": {
            "image/png": "[encoded data removed]",
            "text/plain": [
              "<Figure size 432x288 with 1 Axes>"
            ]
          },
          "metadata": {
            "tags": [],
            "needs_background": "light"
          }
        }
      ]
    },
    {
      "cell_type": "code",
      "metadata": {
        "id": "N4j4ZN8U7rr_",
        "colab_type": "code",
        "colab": {}
      },
      "source": [
        "def Pi_f(means, covs, p):\n",
        "    Pi_x = torch.pow(means[:, 0], 3) + 3 * means[:, 0] * covs[:, 0]\n",
        "    Pi_y = covs[:, 1] + torch.pow(means[:, 1], 2)\n",
        "    return (p * Pi_x * Pi_y).sum().item()\n",
        "def Log_pi(X, means, covs, p):\n",
        "    exp = torch.exp(-torch.stack([torch.pow(X - means[i], 2) / (2 * covs[i]) for i in range(len(means))]).sum(dim=-1))\n",
        "    coefs = p / (2. * np.pi * torch.sqrt(covs.prod(dim=1)))\n",
        "    return torch.log(torch.matmul(coefs, exp))"
      ],
      "execution_count": 6,
      "outputs": []
    },
    {
      "cell_type": "code",
      "metadata": {
        "id": "EN0lK-Gm7rsC",
        "colab_type": "code",
        "colab": {
          "base_uri": "https://localhost:8080/",
          "height": 34
        },
        "outputId": "807f5a61-ae82-445b-9f1b-f4e858041452"
      },
      "source": [
        "pi_f = Pi_f(means, covs, p)\n",
        "print(pi_f)"
      ],
      "execution_count": 7,
      "outputs": [
        {
          "output_type": "stream",
          "text": [
            "8.0\n"
          ],
          "name": "stdout"
        }
      ]
    },
    {
      "cell_type": "code",
      "metadata": {
        "id": "CBlP8z9O7rsH",
        "colab_type": "code",
        "colab": {}
      },
      "source": [
        "device = 'cpu'\n",
        "fucking_network = nn.Sequential(\n",
        "    nn.Linear(2, 16),\n",
        "    nn.ReLU(),\n",
        "    nn.Linear(16, 16),\n",
        "    nn.ReLU(),\n",
        "    nn.Linear(16, 16),\n",
        "    nn.ReLU(),\n",
        "    nn.Linear(16, 2),\n",
        "    #nn.ReLU(),\n",
        "    #nn.Linear(32, 2)\n",
        ")\n",
        "fucking_network.to(device)\n",
        "optimizer = torch.optim.Adam(fucking_network.parameters(), lr=3e-5)\n",
        "scheduler = torch.optim.lr_scheduler.StepLR(optimizer,step_size=2000, gamma=0.7)"
      ],
      "execution_count": 14,
      "outputs": []
    },
    {
      "cell_type": "code",
      "metadata": {
        "id": "SaMr0_yy7rsJ",
        "colab_type": "code",
        "colab": {}
      },
      "source": [
        "n_epoch = 22000\n",
        "Y = (f_X - torch.mean(f_X)).to(device)\n",
        "loss = nn.MSELoss()\n",
        "loss_history = []"
      ],
      "execution_count": 15,
      "outputs": []
    },
    {
      "cell_type": "code",
      "metadata": {
        "id": "xXTq-YIp7rsN",
        "colab_type": "code",
        "colab": {
          "base_uri": "https://localhost:8080/",
          "height": 117,
          "referenced_widgets": [
            "08d93f02af1740628c1733d5c65d9c89",
            "fed2b938109b4926a3566c0bbadf4ef2",
            "7ae81007e3de46ef8f641ed1c4ad2ebd",
            "a29844a43b0640288434e18055b9fe53",
            "2d84a95c918041d198a0c4d3245091da",
            "efe09a9b956248429f455add9b4b0b92",
            "4071eca114064dc6af51d2a753f410aa",
            "cd3e1cdabf7a4b2abb74a25d1083de68"
          ]
        },
        "outputId": "1467325e-fa71-4517-bc6b-cf3db84b8256"
      },
      "source": [
        "for _ in tqdm_notebook(range(n_epoch)):\n",
        "    phi_X = fucking_network(X.to(device))\n",
        "    X.grad = None\n",
        "    phi_X[:,0].sum().backward(retain_graph=True)\n",
        "    phi_prime_X1 = X.grad.to(device)\n",
        "    X.grad = None\n",
        "    phi_X[:,1].sum().backward(retain_graph=True)\n",
        "    phi_prime_X2 = X.grad.to(device)\n",
        "    div_phi = phi_prime_X1[:, 0] + phi_prime_X2[:, 1]\n",
        "    log_pi_X = Log_pi(X, means, covs, p).to(device)\n",
        "    X.grad = None\n",
        "    log_pi_X.sum().backward(retain_graph=True)\n",
        "    grad_log_pi_X = X.grad.to(device)\n",
        "    g_X = (phi_X * grad_log_pi_X).sum(dim=1) + div_phi\n",
        "    Y_pred = (g_X - torch.mean(g_X)).to(device)\n",
        "    train_loss = loss(Y_pred, Y).to(device)\n",
        "    optimizer.zero_grad()\n",
        "    train_loss.backward(retain_graph=True)\n",
        "    optimizer.step()\n",
        "    #scheduler.step()\n",
        "    loss_history.append(train_loss.item())"
      ],
      "execution_count": 16,
      "outputs": [
        {
          "output_type": "stream",
          "text": [
            "/usr/local/lib/python3.6/dist-packages/ipykernel_launcher.py:1: TqdmDeprecationWarning: This function will be removed in tqdm==5.0.0\n",
            "Please use `tqdm.notebook.tqdm` instead of `tqdm.tqdm_notebook`\n",
            "  \"\"\"Entry point for launching an IPython kernel.\n"
          ],
          "name": "stderr"
        },
        {
          "output_type": "display_data",
          "data": {
            "application/vnd.jupyter.widget-view+json": {
              "model_id": "08d93f02af1740628c1733d5c65d9c89",
              "version_minor": 0,
              "version_major": 2
            },
            "text/plain": [
              "HBox(children=(FloatProgress(value=0.0, max=22000.0), HTML(value='')))"
            ]
          },
          "metadata": {
            "tags": []
          }
        },
        {
          "output_type": "stream",
          "text": [
            "\n"
          ],
          "name": "stdout"
        }
      ]
    },
    {
      "cell_type": "code",
      "metadata": {
        "id": "XkGxg-Vk7rsQ",
        "colab_type": "code",
        "colab": {
          "base_uri": "https://localhost:8080/",
          "height": 266
        },
        "outputId": "24800829-4b3f-44f0-df1c-af24bc165176"
      },
      "source": [
        "plt.plot(loss_history);"
      ],
      "execution_count": 17,
      "outputs": [
        {
          "output_type": "display_data",
          "data": {
            "image/png": "[encoded data removed]",
            "text/plain": [
              "<Figure size 432x288 with 1 Axes>"
            ]
          },
          "metadata": {
            "tags": [],
            "needs_background": "light"
          }
        }
      ]
    },
    {
      "cell_type": "code",
      "metadata": {
        "id": "jxb6yN_W7rsT",
        "colab_type": "code",
        "colab": {
          "base_uri": "https://localhost:8080/",
          "height": 34
        },
        "outputId": "f6b5e7e7-2110-49aa-849e-400f2cc89f91"
      },
      "source": [
        "loss_history[-1]"
      ],
      "execution_count": 18,
      "outputs": [
        {
          "output_type": "execute_result",
          "data": {
            "text/plain": [
              "64285.0859375"
            ]
          },
          "metadata": {
            "tags": []
          },
          "execution_count": 18
        }
      ]
    },
    {
      "cell_type": "code",
      "metadata": {
        "id": "bRk-ZE567rsW",
        "colab_type": "code",
        "colab": {
          "base_uri": "https://localhost:8080/",
          "height": 34
        },
        "outputId": "e7671986-d1d9-41b8-966a-f46b98a50650"
      },
      "source": [
        "min(loss_history)"
      ],
      "execution_count": 19,
      "outputs": [
        {
          "output_type": "execute_result",
          "data": {
            "text/plain": [
              "64239.77734375"
            ]
          },
          "metadata": {
            "tags": []
          },
          "execution_count": 19
        }
      ]
    },
    {
      "cell_type": "code",
      "metadata": {
        "id": "pmNK7AMG7rsZ",
        "colab_type": "code",
        "colab": {
          "base_uri": "https://localhost:8080/",
          "height": 117,
          "referenced_widgets": [
            "0b8e37bd02364468be7d24ab1b810346",
            "e2aed3b9ff784575958733a7425b0184",
            "0dd209d45ac044e08a0701c6d278f82c",
            "fbff711b64954004ad482e88b2b0a81a",
            "a855a66b19354c27a88b9c6a81432d83",
            "fac328dde93248b49972808035bc97a6",
            "08f706b0424843cdb80822254e13f692",
            "66de6032470e4ac0974f7c69767392ec"
          ]
        },
        "outputId": "4358cbb8-76e6-478e-a232-1fcb0d69688f"
      },
      "source": [
        "estimates = []\n",
        "vr_estimates = []\n",
        "np.random.seed(42)\n",
        "for i in tqdm_notebook(range(100)):\n",
        "    X = torch.tensor(mixture_sampler(means.numpy(), covs.numpy(), p.numpy(), 10000),\n",
        "                 dtype=torch.float32, requires_grad=True)\n",
        "    f_X = (torch.pow(X[:, 0], 3) * torch.pow(X[:, 1], 2)).to(device)\n",
        "    estimates.append(f_X.mean().item())\n",
        "    phi_X = fucking_network(X.to(device))\n",
        "    X.grad = None\n",
        "    phi_X[:,0].sum().backward(retain_graph=True)\n",
        "    phi_prime_X1 = X.grad.to(device)\n",
        "    X.grad = None\n",
        "    phi_X[:,1].sum().backward(retain_graph=True)\n",
        "    phi_prime_X2 = X.grad.to(device)\n",
        "    div_phi = phi_prime_X1[:, 0] + phi_prime_X2[:, 1]\n",
        "    log_pi_X = Log_pi(X, means, covs, p).to(device)\n",
        "    X.grad = None\n",
        "    log_pi_X.sum().backward(retain_graph=True)\n",
        "    grad_log_pi_X = X.grad.to(device)\n",
        "    g_X = (phi_X * grad_log_pi_X).sum(dim=1) + div_phi\n",
        "    vr_estimates.append((f_X - g_X).mean().item())"
      ],
      "execution_count": 20,
      "outputs": [
        {
          "output_type": "stream",
          "text": [
            "/usr/local/lib/python3.6/dist-packages/ipykernel_launcher.py:4: TqdmDeprecationWarning: This function will be removed in tqdm==5.0.0\n",
            "Please use `tqdm.notebook.tqdm` instead of `tqdm.tqdm_notebook`\n",
            "  after removing the cwd from sys.path.\n"
          ],
          "name": "stderr"
        },
        {
          "output_type": "display_data",
          "data": {
            "application/vnd.jupyter.widget-view+json": {
              "model_id": "0b8e37bd02364468be7d24ab1b810346",
              "version_minor": 0,
              "version_major": 2
            },
            "text/plain": [
              "HBox(children=(FloatProgress(value=0.0), HTML(value='')))"
            ]
          },
          "metadata": {
            "tags": []
          }
        },
        {
          "output_type": "stream",
          "text": [
            "\n"
          ],
          "name": "stdout"
        }
      ]
    },
    {
      "cell_type": "code",
      "metadata": {
        "id": "2LyXs6C27rsc",
        "colab_type": "code",
        "colab": {
          "base_uri": "https://localhost:8080/",
          "height": 592
        },
        "outputId": "c258ab1c-87f7-4000-abdc-cdc33f3bb676"
      },
      "source": [
        "plt.figure(figsize=(20, 10))\n",
        "plt.boxplot([estimates, vr_estimates])\n",
        "plt.axhline(y=pi_f, color='r', linestyle='--');"
      ],
      "execution_count": 21,
      "outputs": [
        {
          "output_type": "display_data",
          "data": {
            "image/png": "[encoded data removed]",
            "text/plain": [
              "<Figure size 1440x720 with 1 Axes>"
            ]
          },
          "metadata": {
            "tags": [],
            "needs_background": "light"
          }
        }
      ]
    },
    {
      "cell_type": "code",
      "metadata": {
        "id": "D0YuPJ9E7rse",
        "colab_type": "code",
        "colab": {
          "base_uri": "https://localhost:8080/",
          "height": 34
        },
        "outputId": "4e9dc37a-0a54-4444-88e9-945eb43798c8"
      },
      "source": [
        "np.median(vr_estimates)"
      ],
      "execution_count": 22,
      "outputs": [
        {
          "output_type": "execute_result",
          "data": {
            "text/plain": [
              "8.122109413146973"
            ]
          },
          "metadata": {
            "tags": []
          },
          "execution_count": 22
        }
      ]
    },
    {
      "cell_type": "code",
      "metadata": {
        "id": "6Hr2mimQ7rsg",
        "colab_type": "code",
        "colab": {
          "base_uri": "https://localhost:8080/",
          "height": 68
        },
        "outputId": "b3cdcf66-3653-470b-d4bb-8aae7909d1a9"
      },
      "source": [
        "a = torch.tensor([[3., 1.],[1., 2.], [-2., 0.]])\n",
        "a"
      ],
      "execution_count": 10,
      "outputs": [
        {
          "output_type": "execute_result",
          "data": {
            "text/plain": [
              "tensor([[ 3.,  1.],\n",
              "        [ 1.,  2.],\n",
              "        [-2.,  0.]])"
            ]
          },
          "metadata": {
            "tags": []
          },
          "execution_count": 10
        }
      ]
    },
    {
      "cell_type": "code",
      "metadata": {
        "id": "Qvf8l_Ae7rsh",
        "colab_type": "code",
        "colab": {
          "base_uri": "https://localhost:8080/",
          "height": 51
        },
        "outputId": "e827d952-a89b-46ac-a8d0-f62a1578e5a6"
      },
      "source": [
        "means"
      ],
      "execution_count": 11,
      "outputs": [
        {
          "output_type": "execute_result",
          "data": {
            "text/plain": [
              "tensor([[-2., -3.],\n",
              "        [ 3.,  2.]])"
            ]
          },
          "metadata": {
            "tags": []
          },
          "execution_count": 11
        }
      ]
    },
    {
      "cell_type": "code",
      "metadata": {
        "id": "3pJjFTLr7rsj",
        "colab_type": "code",
        "colab": {
          "base_uri": "https://localhost:8080/",
          "height": 51
        },
        "outputId": "fc244150-3c61-4094-9200-d322b4687eb2"
      },
      "source": [
        "Q = torch.stack([torch.pow(a - means[i], 2) for i in range(len(means))]).sum(dim=-1)\n",
        "Q"
      ],
      "execution_count": 12,
      "outputs": [
        {
          "output_type": "execute_result",
          "data": {
            "text/plain": [
              "tensor([[41., 34.,  9.],\n",
              "        [ 1.,  4., 29.]])"
            ]
          },
          "metadata": {
            "tags": []
          },
          "execution_count": 12
        }
      ]
    },
    {
      "cell_type": "code",
      "metadata": {
        "id": "HMMXinMS7rsm",
        "colab_type": "code",
        "colab": {
          "base_uri": "https://localhost:8080/",
          "height": 34
        },
        "outputId": "db157681-0be6-4dfb-8649-744e7e72a7be"
      },
      "source": [
        "b = torch.tensor([3., 1.])\n",
        "b @ Q"
      ],
      "execution_count": 13,
      "outputs": [
        {
          "output_type": "execute_result",
          "data": {
            "text/plain": [
              "tensor([124., 106.,  56.])"
            ]
          },
          "metadata": {
            "tags": []
          },
          "execution_count": 13
        }
      ]
    },
    {
      "cell_type": "code",
      "metadata": {
        "id": "93vO3njX7rso",
        "colab_type": "code",
        "colab": {},
        "outputId": "d1065751-9121-4fdc-829c-2758bc496694"
      },
      "source": [
        "np.var(f_X.cpu().detach().numpy())"
      ],
      "execution_count": null,
      "outputs": [
        {
          "output_type": "execute_result",
          "data": {
            "text/plain": [
              "181950.55"
            ]
          },
          "metadata": {
            "tags": []
          },
          "execution_count": 17
        }
      ]
    },
    {
      "cell_type": "code",
      "metadata": {
        "id": "1a03rpHI7rsp",
        "colab_type": "code",
        "colab": {},
        "outputId": "86e39a89-b031-4420-9e7b-0f8c537fc1a4"
      },
      "source": [
        "np.var(vr_estimates)"
      ],
      "execution_count": null,
      "outputs": [
        {
          "output_type": "execute_result",
          "data": {
            "text/plain": [
              "6.732851086066155"
            ]
          },
          "metadata": {
            "tags": []
          },
          "execution_count": 38
        }
      ]
    },
    {
      "cell_type": "code",
      "metadata": {
        "id": "JoWqVh467rsr",
        "colab_type": "code",
        "colab": {},
        "outputId": "110cc08b-f2a7-4443-fb81-66911a8f7612"
      },
      "source": [
        "np.var(estimates)"
      ],
      "execution_count": null,
      "outputs": [
        {
          "output_type": "execute_result",
          "data": {
            "text/plain": [
              "17.873109075818316"
            ]
          },
          "metadata": {
            "tags": []
          },
          "execution_count": 39
        }
      ]
    },
    {
      "cell_type": "code",
      "metadata": {
        "id": "EMprl1rN7rss",
        "colab_type": "code",
        "colab": {}
      },
      "source": [
        ""
      ],
      "execution_count": null,
      "outputs": []
    }
  ]
}