{
 "cells": [
  {
   "cell_type": "code",
   "execution_count": 598,
   "metadata": {},
   "outputs": [],
   "source": [
    "import numpy as np\n",
    "from scipy import special\n",
    "import torch\n",
    "from torch import nn\n",
    "import matplotlib.pyplot as plt\n",
    "from tqdm import tqdm_notebook\n",
    "%matplotlib inline"
   ]
  },
  {
   "cell_type": "code",
   "execution_count": 599,
   "metadata": {},
   "outputs": [],
   "source": [
    "def mixture_sampler(means, sigmas, p, size=1):\n",
    "    sample = []\n",
    "    for _ in range(size):\n",
    "        i = np.random.choice(np.arange(len(p)), p=p)\n",
    "        sample.append(np.random.normal(loc=means[i], scale=sigmas[i], size=1))\n",
    "    return np.vstack(sample)\n",
    "def U(X, means, sigmas, p):\n",
    "    exp = torch.exp(-torch.cat([torch.pow(X - means[i], 2) / (2 * sigmas[i] ** 2) for i in range(len(means))], dim=1))\n",
    "    coefs = p / (np.sqrt(2 * np.pi) * sigmas)\n",
    "    return -torch.log(torch.matmul(exp, coefs))\n",
    "def Pi_f(means, sigmas, p):\n",
    "    return (p * (torch.pow(means, 3) + 3 * means * torch.pow(sigmas, 2))).sum().item()"
   ]
  },
  {
   "cell_type": "code",
   "execution_count": 600,
   "metadata": {},
   "outputs": [],
   "source": [
    "p = torch.tensor([0.4, 0.6])\n",
    "sigmas = torch.tensor([1., 1.])\n",
    "means = torch.tensor([-1., 2.])"
   ]
  },
  {
   "cell_type": "code",
   "execution_count": 601,
   "metadata": {},
   "outputs": [
    {
     "name": "stdout",
     "output_type": "stream",
     "text": [
      "6.8000006675720215\n"
     ]
    }
   ],
   "source": [
    "np.random.seed(42)\n",
    "X = torch.tensor(mixture_sampler(means, sigmas, p.numpy(), 1000), dtype=torch.float32, requires_grad=True)\n",
    "f_X = torch.pow(X, 3).squeeze()\n",
    "pi_f = Pi_f(means, sigmas, p)\n",
    "print(pi_f)"
   ]
  },
  {
   "cell_type": "code",
   "execution_count": 602,
   "metadata": {},
   "outputs": [],
   "source": [
    "x_l = torch.linspace(-6, 6, 1000).reshape(-1, 1)\n",
    "u_l = U(x_l, means, sigmas, p)"
   ]
  },
  {
   "cell_type": "code",
   "execution_count": 603,
   "metadata": {},
   "outputs": [
    {
     "data": {
      "image/png": "[encoded data removed]",
      "text/plain": [
       "<Figure size 432x288 with 1 Axes>"
      ]
     },
     "metadata": {
      "needs_background": "light"
     },
     "output_type": "display_data"
    }
   ],
   "source": [
    "plt.plot(x_l.numpy(), torch.exp(-u_l));"
   ]
  },
  {
   "cell_type": "code",
   "execution_count": 604,
   "metadata": {},
   "outputs": [],
   "source": [
    "device = 'cuda:0'\n",
    "width = 16\n",
    "fucking_network = nn.Sequential(\n",
    "    nn.Linear(1, width),\n",
    "    nn.ReLU(),\n",
    "    nn.Linear(width, width),\n",
    "    nn.ReLU(),\n",
    "    nn.Linear(width, width),\n",
    "    nn.ReLU(),\n",
    "    nn.Linear(width, width),\n",
    "    nn.ReLU(),\n",
    "    nn.Linear(width, 1),\n",
    ")\n",
    "fucking_network.to(device)\n",
    "optimizer = torch.optim.Adam(fucking_network.parameters(), lr=3e-5)\n",
    "scheduler = torch.optim.lr_scheduler.StepLR(optimizer,step_size=2000, gamma=0.8)"
   ]
  },
  {
   "cell_type": "code",
   "execution_count": 605,
   "metadata": {},
   "outputs": [],
   "source": [
    "n_epoch = 10000\n",
    "Y = (f_X - torch.mean(f_X)).to(device)\n",
    "loss = nn.MSELoss()\n",
    "loss_history = []"
   ]
  },
  {
   "cell_type": "code",
   "execution_count": 606,
   "metadata": {},
   "outputs": [
    {
     "data": {
      "application/vnd.jupyter.widget-view+json": {
       "model_id": "fd9e189912cd49ef96d90463aa79f9ba",
       "version_major": 2,
       "version_minor": 0
      },
      "text/plain": [
       "HBox(children=(IntProgress(value=0, max=10000), HTML(value='')))"
      ]
     },
     "metadata": {},
     "output_type": "display_data"
    }
   ],
   "source": [
    "for _ in tqdm_notebook(range(n_epoch)):\n",
    "    phi_X = fucking_network(X.to(device)).squeeze()\n",
    "    #phi_X_prime = torch.autograd.grad(phi_X.sum(), X, retain_graph=True)[0].squeeze()\n",
    "    X.grad = None\n",
    "    phi_X.to(device).sum().backward(retain_graph=True)\n",
    "    phi_X_prime = X.grad.squeeze().to(device)\n",
    "    U_X = U(X, means, sigmas, p).to(device)\n",
    "    #U_X_prime = torch.autograd.grad(U_X.sum(), X, retain_graph=True)[0].squeeze()\n",
    "    X.grad = None\n",
    "    U_X.to(device).sum().backward(retain_graph=True)\n",
    "    U_X_prime = X.grad.squeeze().to(device)\n",
    "    g_X = -U_X_prime * phi_X + phi_X_prime\n",
    "    Y_pred = (g_X - torch.mean(g_X)).to(device)\n",
    "    train_loss = loss(Y_pred, Y).to(device)\n",
    "    optimizer.zero_grad()\n",
    "    train_loss.backward(retain_graph=True)\n",
    "    optimizer.step()\n",
    "    scheduler.step()\n",
    "    loss_history.append(train_loss.item())"
   ]
  },
  {
   "cell_type": "code",
   "execution_count": 607,
   "metadata": {},
   "outputs": [
    {
     "data": {
      "image/png": "[encoded data removed]",
      "text/plain": [
       "<Figure size 432x288 with 1 Axes>"
      ]
     },
     "metadata": {
      "needs_background": "light"
     },
     "output_type": "display_data"
    }
   ],
   "source": [
    "plt.plot(loss_history);"
   ]
  },
  {
   "cell_type": "code",
   "execution_count": 608,
   "metadata": {},
   "outputs": [],
   "source": [
    "fucking_network.to('cpu').eval()\n",
    "x = torch.tensor(np.linspace(-5, 5, 10001).reshape(-1, 1), dtype=torch.float32, requires_grad=True)\n",
    "phi_x = fucking_network(x).squeeze()\n",
    "x.grad = None\n",
    "phi_x.sum().backward(retain_graph=True)\n",
    "phi_x_prime = x.grad.squeeze()\n",
    "U_x = U(x, means, sigmas, p)\n",
    "x.grad = None\n",
    "U_x.sum().backward(retain_graph=True)\n",
    "U_x_prime = x.grad.squeeze()\n",
    "g_x = -U_x_prime * phi_x + phi_x_prime\n",
    "g_x_numpy = g_x.detach().numpy()\n",
    "phi_x_numpy = phi_x.detach().numpy()\n",
    "x_numpy = x.detach().numpy()"
   ]
  },
  {
   "cell_type": "code",
   "execution_count": 609,
   "metadata": {},
   "outputs": [
    {
     "data": {
      "image/png": "[encoded data removed]",
      "text/plain": [
       "<Figure size 432x288 with 1 Axes>"
      ]
     },
     "metadata": {
      "needs_background": "light"
     },
     "output_type": "display_data"
    }
   ],
   "source": [
    "plt.plot(x_numpy, phi_x_numpy);"
   ]
  },
  {
   "cell_type": "code",
   "execution_count": 610,
   "metadata": {},
   "outputs": [
    {
     "data": {
      "image/png": "[encoded data removed]",
      "text/plain": [
       "<Figure size 432x288 with 1 Axes>"
      ]
     },
     "metadata": {
      "needs_background": "light"
     },
     "output_type": "display_data"
    }
   ],
   "source": [
    "plt.plot(x_numpy, g_x_numpy)\n",
    "f_numpy = x_numpy ** 3\n",
    "plt.plot(x_numpy, f_numpy - pi_f);"
   ]
  },
  {
   "cell_type": "code",
   "execution_count": 611,
   "metadata": {},
   "outputs": [
    {
     "data": {
      "application/vnd.jupyter.widget-view+json": {
       "model_id": "bf571b48f28b41e4ac2facb59483d995",
       "version_major": 2,
       "version_minor": 0
      },
      "text/plain": [
       "HBox(children=(IntProgress(value=0), HTML(value='')))"
      ]
     },
     "metadata": {},
     "output_type": "display_data"
    }
   ],
   "source": [
    "estimates = []\n",
    "vr_estimates = []\n",
    "samples = []\n",
    "fucking_network.eval()\n",
    "device = 'cpu'\n",
    "np.random.seed(42)\n",
    "for i in tqdm_notebook(range(100)):\n",
    "    X = torch.tensor(mixture_sampler(means, sigmas, p.numpy(), 1000), dtype=torch.float32, requires_grad=True)\n",
    "    samples.append(X.detach().numpy())\n",
    "    f_X = torch.pow(X, 3).squeeze()\n",
    "    estimates.append(f_X.mean().item())\n",
    "    phi_X = fucking_network(X.to(device)).squeeze()\n",
    "    #phi_X_prime = torch.autograd.grad(phi_X.sum(), X, retain_graph=True)[0].squeeze()\n",
    "    X.grad = None\n",
    "    phi_X.to(device).sum().backward(retain_graph=True)\n",
    "    phi_X_prime = X.grad.squeeze().to(device)\n",
    "    U_X = U(X, means, sigmas, p).to(device)\n",
    "    #U_X_prime = torch.autograd.grad(U_X.sum(), X, retain_graph=True)[0].squeeze()\n",
    "    X.grad = None\n",
    "    U_X.to(device).sum().backward(retain_graph=True)\n",
    "    U_X_prime = X.grad.squeeze().to(device)\n",
    "    g_X = -U_X_prime * phi_X + phi_X_prime\n",
    "    vr_estimates.append((f_X-g_X).mean().item())"
   ]
  },
  {
   "cell_type": "code",
   "execution_count": 612,
   "metadata": {},
   "outputs": [
    {
     "data": {
      "image/png": "[encoded data removed]",
      "text/plain": [
       "<Figure size 1440x720 with 1 Axes>"
      ]
     },
     "metadata": {
      "needs_background": "light"
     },
     "output_type": "display_data"
    }
   ],
   "source": [
    "plt.figure(figsize=(20, 10))\n",
    "plt.boxplot([estimates, vr_estimates])\n",
    "plt.axhline(y=pi_f, color='r', linestyle='--');"
   ]
  },
  {
   "cell_type": "code",
   "execution_count": 613,
   "metadata": {},
   "outputs": [
    {
     "name": "stdout",
     "output_type": "stream",
     "text": [
      "0.2656342186315964\n"
     ]
    }
   ],
   "source": [
    "print(np.var(estimates))"
   ]
  },
  {
   "cell_type": "code",
   "execution_count": 614,
   "metadata": {},
   "outputs": [
    {
     "name": "stdout",
     "output_type": "stream",
     "text": [
      "0.08738121856853674\n"
     ]
    }
   ],
   "source": [
    "print(np.var(vr_estimates))"
   ]
  },
  {
   "cell_type": "code",
   "execution_count": 580,
   "metadata": {},
   "outputs": [],
   "source": [
    "samples = np.array(samples)\n",
    "np.save('sample3', samples)"
   ]
  },
  {
   "cell_type": "code",
   "execution_count": null,
   "metadata": {},
   "outputs": [],
   "source": [
    "vanilla = np.array(estimates)\n",
    "nn_vr = np.array(vr_estimates)\n",
    "\n",
    "np.save('vanilla3', vanilla)\n",
    "np.save('nn_vr3', nn_vr)"
   ]
  },
  {
   "cell_type": "code",
   "execution_count": 246,
   "metadata": {},
   "outputs": [],
   "source": [
    "vanilla = np.load('vanilla3.npy')\n",
    "nn_vr = np.load('nn_vr3.npy')"
   ]
  },
  {
   "cell_type": "code",
   "execution_count": 247,
   "metadata": {},
   "outputs": [
    {
     "data": {
      "image/png": "[encoded data removed]",
      "text/plain": [
       "<Figure size 1440x720 with 1 Axes>"
      ]
     },
     "metadata": {
      "needs_background": "light"
     },
     "output_type": "display_data"
    }
   ],
   "source": [
    "plt.figure(figsize=(20, 10))\n",
    "plt.boxplot([vanilla, nn_vr])\n",
    "plt.axhline(y=pi_f, color='r', linestyle='--');"
   ]
  },
  {
   "cell_type": "markdown",
   "metadata": {},
   "source": [
    "## Manual check of the loss"
   ]
  },
  {
   "cell_type": "code",
   "execution_count": 439,
   "metadata": {},
   "outputs": [],
   "source": [
    "device = 'cpu'\n",
    "net = nn.Sequential(\n",
    "    nn.Linear(1, 16),\n",
    "    nn.ReLU(),\n",
    "    nn.Linear(16, 1)\n",
    ")\n",
    "net.to(device)\n",
    "optimizer = torch.optim.Adam(net.parameters(), lr=1e-4)\n",
    "scheduler = torch.optim.lr_scheduler.StepLR(optimizer,step_size=1000, gamma=0.95)"
   ]
  },
  {
   "cell_type": "code",
   "execution_count": 440,
   "metadata": {},
   "outputs": [],
   "source": [
    "U_X = U(X, means, sigmas, p)\n",
    "X.grad = None\n",
    "U_X.sum().backward(retain_graph=True)\n",
    "U_X_prime = X.grad.squeeze().to(device)\n",
    "\n",
    "n_epoch = 15000\n",
    "Y = (f_X - torch.mean(f_X)).to(device)\n",
    "loss = nn.MSELoss()\n",
    "loss_history = []\n",
    "X.grad = None"
   ]
  },
  {
   "cell_type": "code",
   "execution_count": 442,
   "metadata": {},
   "outputs": [
    {
     "name": "stdout",
     "output_type": "stream",
     "text": [
      "-15.200002670288086\n"
     ]
    }
   ],
   "source": [
    "np.random.seed(42)\n",
    "X = torch.tensor(mixture_sampler(means, sigmas, p.numpy(), 1000), dtype=torch.float32, requires_grad=True)\n",
    "f_X = torch.pow(X, 3).squeeze()\n",
    "pi_f = Pi_f(means, sigmas, p)\n",
    "print(pi_f)"
   ]
  },
  {
   "cell_type": "code",
   "execution_count": 443,
   "metadata": {},
   "outputs": [
    {
     "data": {
      "application/vnd.jupyter.widget-view+json": {
       "model_id": "b6a348f2cfc449dab8f2c589e8106b06",
       "version_major": 2,
       "version_minor": 0
      },
      "text/plain": [
       "HBox(children=(IntProgress(value=0, max=15000), HTML(value='')))"
      ]
     },
     "metadata": {},
     "output_type": "display_data"
    }
   ],
   "source": [
    "for _ in tqdm_notebook(range(n_epoch)):\n",
    "    phi_X = net(X.to(device)).squeeze()\n",
    "    phi_X_prime = torch.matmul(net[2].weight, net[0].weight * (net[0](X) > 0.).T).squeeze()\n",
    "    g_X = -U_X_prime * phi_X + phi_X_prime\n",
    "    Y_pred = (g_X - torch.mean(g_X)).to(device)\n",
    "    train_loss = loss(Y_pred, Y).to(device)\n",
    "    optimizer.zero_grad()\n",
    "    train_loss.backward(retain_graph=True)\n",
    "    optimizer.step()\n",
    "    scheduler.step()\n",
    "    loss_history.append(train_loss.item())"
   ]
  },
  {
   "cell_type": "code",
   "execution_count": 444,
   "metadata": {},
   "outputs": [
    {
     "data": {
      "image/png": "[encoded data removed]",
      "text/plain": [
       "<Figure size 432x288 with 1 Axes>"
      ]
     },
     "metadata": {
      "needs_background": "light"
     },
     "output_type": "display_data"
    }
   ],
   "source": [
    "plt.plot(loss_history);"
   ]
  },
  {
   "cell_type": "code",
   "execution_count": 445,
   "metadata": {},
   "outputs": [
    {
     "data": {
      "text/plain": [
       "6177.8388671875"
      ]
     },
     "execution_count": 445,
     "metadata": {},
     "output_type": "execute_result"
    }
   ],
   "source": [
    "loss_history[-1]"
   ]
  },
  {
   "cell_type": "code",
   "execution_count": 446,
   "metadata": {},
   "outputs": [],
   "source": [
    "net.to('cpu').eval()\n",
    "x = torch.tensor(np.linspace(-5, 5, 10001).reshape(-1, 1), dtype=torch.float32, requires_grad=True)\n",
    "U_x = U(x, means, sigmas, p)\n",
    "x.grad = None\n",
    "U_x.sum().backward(retain_graph=True)\n",
    "U_x_prime = x.grad.squeeze().to(device)\n",
    "phi_x = net(x.to(device)).squeeze()\n",
    "phi_x_prime = torch.matmul(net[2].weight, net[0].weight * (net[0](x) > 0.).T).squeeze()\n",
    "g_x = -U_x_prime * phi_x + phi_x_prime\n",
    "g_x_numpy = g_x.detach().numpy()\n",
    "phi_x_numpy = phi_x.detach().numpy()\n",
    "x_numpy = x.detach().numpy()"
   ]
  },
  {
   "cell_type": "code",
   "execution_count": 447,
   "metadata": {},
   "outputs": [
    {
     "data": {
      "image/png": "[encoded data removed]",
      "text/plain": [
       "<Figure size 432x288 with 1 Axes>"
      ]
     },
     "metadata": {
      "needs_background": "light"
     },
     "output_type": "display_data"
    }
   ],
   "source": [
    "plt.plot(x_numpy, phi_x_numpy);"
   ]
  },
  {
   "cell_type": "code",
   "execution_count": 448,
   "metadata": {},
   "outputs": [
    {
     "data": {
      "image/png": "[encoded data removed]",
      "text/plain": [
       "<Figure size 432x288 with 1 Axes>"
      ]
     },
     "metadata": {
      "needs_background": "light"
     },
     "output_type": "display_data"
    }
   ],
   "source": [
    "plt.plot(x_numpy, g_x_numpy)\n",
    "f_numpy = x_numpy ** 3\n",
    "plt.plot(x_numpy, f_numpy - pi_f);"
   ]
  },
  {
   "cell_type": "code",
   "execution_count": 133,
   "metadata": {},
   "outputs": [
    {
     "data": {
      "application/vnd.jupyter.widget-view+json": {
       "model_id": "6c521e7fe74742ea98502aa72ed2aba1",
       "version_major": 2,
       "version_minor": 0
      },
      "text/plain": [
       "HBox(children=(IntProgress(value=0), HTML(value='')))"
      ]
     },
     "metadata": {},
     "output_type": "display_data"
    }
   ],
   "source": [
    "estimates = []\n",
    "vr_estimates = []\n",
    "net.eval()\n",
    "device = 'cpu'\n",
    "np.random.seed(42)\n",
    "for i in tqdm_notebook(range(100)):\n",
    "    X = torch.tensor(mixture_sampler(means, sigmas, p, 1000), dtype=torch.float32, requires_grad=True)\n",
    "    f_X = torch.pow(X, 3).squeeze()\n",
    "    estimates.append(f_X.mean().item())\n",
    "    U_X = U(X, means, sigmas, p)\n",
    "    U_X.sum().backward(retain_graph=True)\n",
    "    U_X_prime = X.grad.squeeze().to(device)\n",
    "    phi_X = net(X.to(device)).squeeze()\n",
    "    phi_X_prime = torch.matmul(net[2].weight, net[0].weight * (net[0](X) > 0.).T).squeeze()\n",
    "    g_X = -U_X_prime * phi_X + phi_X_prime\n",
    "    vr_estimates.append((f_X-g_X).mean().item())"
   ]
  },
  {
   "cell_type": "code",
   "execution_count": 134,
   "metadata": {},
   "outputs": [
    {
     "data": {
      "image/png": "[encoded data removed]",
      "text/plain": [
       "<Figure size 1440x720 with 1 Axes>"
      ]
     },
     "metadata": {
      "needs_background": "light"
     },
     "output_type": "display_data"
    }
   ],
   "source": [
    "plt.figure(figsize=(20, 10))\n",
    "plt.boxplot([estimates, vr_estimates])\n",
    "plt.axhline(y=pi_f, color='r', linestyle='--');"
   ]
  },
  {
   "cell_type": "code",
   "execution_count": null,
   "metadata": {},
   "outputs": [],
   "source": []
  }
 ],
 "metadata": {
  "kernelspec": {
   "display_name": "Python 3",
   "language": "python",
   "name": "python3"
  },
  "language_info": {
   "codemirror_mode": {
    "name": "ipython",
    "version": 3
   },
   "file_extension": ".py",
   "mimetype": "text/x-python",
   "name": "python",
   "nbconvert_exporter": "python",
   "pygments_lexer": "ipython3",
   "version": "3.7.3"
  }
 },
 "nbformat": 4,
 "nbformat_minor": 2
}
