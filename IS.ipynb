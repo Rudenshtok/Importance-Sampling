{
 "cells": [
  {
   "cell_type": "code",
   "execution_count": 119,
   "metadata": {},
   "outputs": [],
   "source": [
    "import numpy as np\n",
    "import math\n",
    "import seaborn as sns\n",
    "import random\n",
    "from matplotlib import pyplot as plt\n",
    "from IPython.display import clear_output\n",
    "from scipy import special\n",
    "from tqdm import tqdm_notebook\n",
    "%matplotlib inline\n",
    "r_seed = 1812\n",
    "num_samples = 5000"
   ]
  },
  {
   "cell_type": "markdown",
   "metadata": {},
   "source": [
    "## Function"
   ]
  },
  {
   "cell_type": "code",
   "execution_count": 120,
   "metadata": {},
   "outputs": [],
   "source": [
    "def f_x (x) :\n",
    "    f = (x**4 + (x-2)**2)\n",
    "    return f"
   ]
  },
  {
   "cell_type": "code",
   "execution_count": 121,
   "metadata": {
    "scrolled": true
   },
   "outputs": [
    {
     "data": {
      "image/png": "[encoded data removed]",
      "text/plain": [
       "<Figure size 432x288 with 1 Axes>"
      ]
     },
     "metadata": {
      "needs_background": "light"
     },
     "output_type": "display_data"
    }
   ],
   "source": [
    "plt.ioff()\n",
    "x = np.arange(-10, 11)\n",
    "f = x**4 + (x-2)**2\n",
    "fig, ax = plt.subplots()\n",
    " \n",
    "ax.plot(x, f, linestyle='solid')\n",
    " \n",
    "lgnd = ax.legend(['f(x)=x^4+(x-2)^2'], loc='upper left', shadow=True)\n",
    "lgnd.get_frame().set_facecolor('#ffb19a')\n",
    " \n",
    "plt.show()"
   ]
  },
  {
   "cell_type": "markdown",
   "metadata": {},
   "source": [
    "# MC"
   ]
  },
  {
   "cell_type": "code",
   "execution_count": 122,
   "metadata": {},
   "outputs": [],
   "source": [
    "def f_x_(x) :\n",
    "    x1 = np.random.randint(0, x.size - 1)\n",
    "    y = x[x1]\n",
    "    return(y**4 + (y-2)**2)"
   ]
  },
  {
   "cell_type": "code",
   "execution_count": 123,
   "metadata": {},
   "outputs": [],
   "source": [
    "sample_size = 5000\n",
    "sigma = 0.4\n",
    "mu_1 = 1\n",
    "mu_2 = -2\n",
    "np.random.seed(r_seed)\n",
    "X1 = sigma * np.random.randn(sample_size) + mu_1\n",
    "X2 = sigma * np.random.randn(sample_size) + mu_2\n",
    "flag = np.random.binomial(1,0.5,size = sample_size)\n",
    "X = flag*X1 + (1-flag)*X2"
   ]
  },
  {
   "cell_type": "code",
   "execution_count": 124,
   "metadata": {},
   "outputs": [],
   "source": [
    "def MC (num_samples, r_seed):\n",
    "    s = 0\n",
    "    for i in range(num_samples) :\n",
    "        s = s + f_x_(X)\n",
    "    res = s/num_samples\n",
    "    return (res)"
   ]
  },
  {
   "cell_type": "code",
   "execution_count": 125,
   "metadata": {},
   "outputs": [
    {
     "name": "stdout",
     "output_type": "stream",
     "text": [
      "[19.78995332 19.18607054 18.99629724 19.62528514 19.9573849  19.49587622\n",
      " 20.1831795  19.31084522 19.41535137 19.15440287 19.31554925 20.21316655\n",
      " 19.32519433 19.60924312 19.47627847 19.99836683 19.7379323  19.54782775\n",
      " 19.45639397 19.48607318 19.89222754 19.26562753 19.4802064  19.55952931\n",
      " 19.92797471 19.1602664  19.74857539 19.05654773 20.42835541 19.15239377\n",
      " 18.89843845 19.59983872 19.47770492 20.10913878 20.07484201 19.33191657\n",
      " 19.80431067 19.52918322 19.47653425 19.50628565 19.58900263 19.07006935\n",
      " 18.88997436 20.08530655 19.51128425 19.58130936 19.97026672 19.27607497\n",
      " 19.71204213 19.4837657  19.26728407 19.81055426 19.36051652 20.17386904\n",
      " 19.40468003 20.02895994 19.91007695 19.24197881 19.78117534 20.00005345\n",
      " 19.49223205 19.80981066 19.61876142 19.34062256 19.73091482 19.64529397\n",
      " 19.8188527  19.97268392 19.78481254 19.69420748 19.57014942 19.26546425\n",
      " 19.00045858 20.07473728 19.92678252 19.74746819 19.77947119 19.05718283\n",
      " 19.26391774 19.74941131 19.62878773 19.02813324 19.74947193 19.34535025\n",
      " 19.84133478 19.48451099 19.59638792 19.39211991 19.67055907 19.17684861\n",
      " 20.19314876 19.93402168 19.11644427 19.86230473 19.83963727 19.34423098\n",
      " 19.72869597 19.66795723 19.26345484 19.15183086]\n"
     ]
    }
   ],
   "source": [
    "buf0 = np.zeros((100,2),dtype = float)\n",
    "r_seed = 1812\n",
    "num_samples = 5000\n",
    "\n",
    "for i in range(100):\n",
    "    buf0[i] = MC(num_samples, r_seed+i)\n",
    "\n",
    "print(buf0[:,0])"
   ]
  },
  {
   "cell_type": "code",
   "execution_count": 126,
   "metadata": {},
   "outputs": [
    {
     "data": {
      "image/png": "[encoded data removed]",
      "text/plain": [
       "<Figure size 432x288 with 1 Axes>"
      ]
     },
     "metadata": {
      "needs_background": "light"
     },
     "output_type": "display_data"
    }
   ],
   "source": [
    "%matplotlib inline\n",
    "ax = sns.boxplot(x = buf0[:,0])\n",
    "plt.show()"
   ]
  },
  {
   "cell_type": "markdown",
   "metadata": {},
   "source": [
    "# MC in the range"
   ]
  },
  {
   "cell_type": "code",
   "execution_count": 127,
   "metadata": {},
   "outputs": [],
   "source": [
    "def fun_x (x) :\n",
    "    return (1/(2*np.sqrt(2*np.pi)*0.4))*f_x(x)*((np.exp((-(x-1)**2/0.32)))+(np.exp((-(x+2)**2/0.32))))"
   ]
  },
  {
   "cell_type": "code",
   "execution_count": 128,
   "metadata": {},
   "outputs": [],
   "source": [
    "def IS (num_samples, r_seed) :\n",
    "    start = -4\n",
    "    end = 4\n",
    "    np.random.seed(r_seed)\n",
    "    x_arr = np.random.uniform(low=start, high=end, size=num_samples)\n",
    "    f_vals = (end - start)*fun_x(x_arr)\n",
    "    var = np.var(f_vals)/num_samples\n",
    "    mean = np.mean(f_vals)\n",
    "    return (mean,var)"
   ]
  },
  {
   "cell_type": "code",
   "execution_count": 129,
   "metadata": {},
   "outputs": [
    {
     "name": "stdout",
     "output_type": "stream",
     "text": [
      "[19.53882796 19.22081565 20.04998172 20.28875177 19.62466492 19.09014778\n",
      " 18.83137547 19.43904305 19.42546515 19.58387287 19.23535202 19.56699548\n",
      " 19.23219583 18.2512752  19.40937499 19.14089814 19.90177119 19.10272837\n",
      " 18.99279402 20.17854843 19.61660249 19.84350651 19.79520494 19.90638896\n",
      " 19.68003567 20.24081063 19.1354165  20.15086915 20.02359015 19.97538471\n",
      " 20.1050276  18.80401713 19.49070981 19.77567699 19.48223848 19.23639902\n",
      " 20.42722646 18.84998798 19.55327966 19.28556425 19.27417919 20.51528552\n",
      " 19.262895   19.88653619 20.39429881 18.20473442 19.47825148 19.96891186\n",
      " 20.00547665 19.57353367 18.9282407  19.38683006 19.05567501 18.55763144\n",
      " 19.22231527 19.37658139 18.65490309 19.06268155 19.5849755  19.96955746\n",
      " 18.71267301 19.53537872 19.37315472 19.22364213 20.90264675 20.28667399\n",
      " 19.66071171 19.0507813  20.07186756 19.85133089 18.73910214 20.70559707\n",
      " 19.41626121 19.86830196 19.30424296 19.87035886 19.86585873 18.83006155\n",
      " 19.68181844 19.59289295 19.93333349 19.77130859 19.98023429 19.11394719\n",
      " 19.75309209 19.15532146 19.99070525 19.59372553 19.48872701 19.30340242\n",
      " 19.43429117 19.557866   19.83933407 20.010861   19.20346433 19.03282117\n",
      " 19.38877548 19.95522011 20.64728675 19.28121507]\n"
     ]
    }
   ],
   "source": [
    "buf = np.zeros((100,2),dtype = float)\n",
    "r_seed = 1812\n",
    "num_samples = 5000\n",
    "\n",
    "for i in range(100):\n",
    "    buf[i] = IS(num_samples,r_seed+i)\n",
    "    \n",
    "print(buf[:,0])"
   ]
  },
  {
   "cell_type": "code",
   "execution_count": 130,
   "metadata": {},
   "outputs": [
    {
     "data": {
      "image/png": "[encoded data removed]",
      "text/plain": [
       "<Figure size 432x288 with 1 Axes>"
      ]
     },
     "metadata": {
      "needs_background": "light"
     },
     "output_type": "display_data"
    }
   ],
   "source": [
    "%matplotlib inline\n",
    "ax = sns.boxplot(x = buf[:,0])\n",
    "plt.show()"
   ]
  },
  {
   "cell_type": "code",
   "execution_count": 131,
   "metadata": {},
   "outputs": [],
   "source": [
    "def funp_x (x) :\n",
    "    x1 = np.random.randint(0, x.size - 1)\n",
    "    y = x[x1]\n",
    "    return ((3.2/math.sqrt(2*np.pi))*np.exp(-((y-1.35)**2)/0.3))"
   ]
  },
  {
   "cell_type": "markdown",
   "metadata": {},
   "source": [
    "# ISp"
   ]
  },
  {
   "cell_type": "code",
   "execution_count": 132,
   "metadata": {},
   "outputs": [],
   "source": [
    "sample_size = 5000\n",
    "sigma = 0.4\n",
    "mu_1 = 1\n",
    "mu_2 = -2\n",
    "np.random.seed(r_seed)\n",
    "X1 = sigma * np.random.randn(sample_size) + mu_1\n",
    "X2 = sigma * np.random.randn(sample_size) + mu_2\n",
    "flag = np.random.binomial(1,0.5,size = sample_size)\n",
    "X = flag*X1 + (1-flag)*X2"
   ]
  },
  {
   "cell_type": "code",
   "execution_count": 133,
   "metadata": {},
   "outputs": [],
   "source": [
    "def f_x_(x) :\n",
    "    x1 = np.random.randint(0, x.size - 1)\n",
    "    y = x[x1]\n",
    "    return (y**4 + (y-2)**2)"
   ]
  },
  {
   "cell_type": "code",
   "execution_count": 134,
   "metadata": {},
   "outputs": [],
   "source": [
    "def pi (x) :\n",
    "    x1 = np.random.randint(0, x.size - 1)\n",
    "    y = x[x1]\n",
    "    function = (1/(2*np.sqrt(2*np.pi)*0.4))*(np.exp(-(y-1)**2/0.32)+np.exp(-(y+2)**2/0.32))\n",
    "    return (function)"
   ]
  },
  {
   "cell_type": "code",
   "execution_count": 135,
   "metadata": {},
   "outputs": [],
   "source": [
    "def g_x (x, lamda, A) :\n",
    "    x1 = np.random.randint(0, x.size - 1)\n",
    "    y = x[x1]\n",
    "    function = A*np.exp(-lamda*y)\n",
    "    return (function)"
   ]
  },
  {
   "cell_type": "code",
   "execution_count": 136,
   "metadata": {},
   "outputs": [],
   "source": [
    "def get_IS_variance(lamda, A, num_samples):\n",
    "    \n",
    "    # get sum of squares\n",
    "    running_total = 0\n",
    "    for i in range(num_samples):\n",
    "        running_total += (f_x_(X)/g_x(X,lamda, A))**2\n",
    "    \n",
    "    sum_of_sqs = running_total / num_samples\n",
    "    \n",
    "    # get squared average\n",
    "    running_total = 0\n",
    "    for i in range(num_samples):\n",
    "        running_total += (f_x_(X)/g_x(X,lamda, A))\n",
    "    sq_ave = (running_total/num_samples)**2\n",
    "    \n",
    "    \n",
    "    return sum_of_sqs - sq_ave"
   ]
  },
  {
   "cell_type": "code",
   "execution_count": 137,
   "metadata": {},
   "outputs": [
    {
     "name": "stdout",
     "output_type": "stream",
     "text": [
      "Optimal Lambda: 0.7000000000000001\n",
      "Optimal A: 1.0\n",
      "Optimal Variance: 2463.8958995849753\n",
      "0.7019823216556063\n"
     ]
    }
   ],
   "source": [
    "test_lamdas = [i*0.05 for i in range(1, 61)]\n",
    "test_A = [i*0.05 for i in range(1, 61)]\n",
    "variances = []\n",
    "\n",
    "for i in range(60):\n",
    "    for j in range(60):\n",
    "        print(f\"lambda {i+1}/{60}: {test_lamdas[i]}\")\n",
    "        print(f\"A {j+1}/{60}: {test_A[j]}\")\n",
    "        variances.append(get_IS_variance(test_lamdas[i], test_A[i], 5000))\n",
    "        clear_output(wait=True)\n",
    "\n",
    "min_var = np.argmin(np.asarray(variances))\n",
    "optimal_lamda = test_lamdas[min_var // 60]\n",
    "optimal_A = test_A [min_var % 60]\n",
    "IS_variance = variances[np.argmin(np.asarray(variances))]\n",
    "\n",
    "print(f\"Optimal Lambda: {optimal_lamda}\")\n",
    "print(f\"Optimal A: {optimal_A}\")\n",
    "print(f\"Optimal Variance: {IS_variance}\")\n",
    "print((IS_variance/5000)**0.5)"
   ]
  },
  {
   "cell_type": "code",
   "execution_count": 138,
   "metadata": {},
   "outputs": [],
   "source": [
    "def g1_x (x) :\n",
    "    x1 = np.random.randint(0, x.size - 1)\n",
    "    y = x[x1]\n",
    "    function = 2.0500000000000003*np.exp(-0.6000000000000001*y)\n",
    "    return (function)"
   ]
  },
  {
   "cell_type": "code",
   "execution_count": 139,
   "metadata": {},
   "outputs": [
    {
     "data": {
      "image/png": "[encoded data removed]",
      "text/plain": [
       "<Figure size 432x288 with 1 Axes>"
      ]
     },
     "metadata": {
      "needs_background": "light"
     },
     "output_type": "display_data"
    }
   ],
   "source": [
    "xs = [float(i/50) for i in range(int(50*np.pi))]\n",
    "fs = [x**4 + (x-2)**2 for x in xs]\n",
    "gs = [2.0500000000000003*np.exp(-0.6000000000000001*x) for x in xs]\n",
    "plt.plot(xs, fs)\n",
    "plt.plot(xs, gs)\n",
    "plt.title(\"f(x) and g(x)\");"
   ]
  },
  {
   "cell_type": "code",
   "execution_count": 140,
   "metadata": {},
   "outputs": [],
   "source": [
    "def ISp (num_samples, r_seed):\n",
    "    s = 0\n",
    "    for i in range (num_samples):\n",
    "        ##s = s + (f_x_(X)**2)*pi(X)/g1_x(X)\n",
    "        s = s + f_x_(X)/g1_x(X)\n",
    "    res = s/num_samples\n",
    "    var = np.var(s)/num_samples\n",
    "    return (res, var)"
   ]
  },
  {
   "cell_type": "code",
   "execution_count": 141,
   "metadata": {},
   "outputs": [
    {
     "name": "stdout",
     "output_type": "stream",
     "text": [
      "[10.59002944 10.29435984 10.55077837 10.92093579 10.61218869 10.48236263\n",
      " 10.55029653 10.81551082 10.48126577 10.63858902 10.11043688 10.45058584\n",
      " 10.55396352  9.83064189 10.73870427 10.4118749  10.7735395  10.47861643\n",
      " 10.66334894 10.72054371 10.29666186 10.42043072 10.30593032 10.33267072\n",
      "  9.98392151 10.15132804 10.48621442 10.82508399 10.68690608 10.43852657\n",
      " 10.68313758 10.41605828 10.73422336 10.97933635 10.34342127 10.70952293\n",
      " 10.69658137 10.61718779 10.5818917  10.84849589 10.74705831 10.66869839\n",
      " 10.69552255 10.49125496 10.60819194 10.24704588 10.33714205 10.47225268\n",
      " 10.76821592 10.46976371 10.68055148 10.69116834 10.18560024 10.8062766\n",
      " 10.41062142 10.74035643 10.48225494 10.85663808 10.66586869 10.46851613\n",
      " 10.52454985 10.47032473 10.56260482 11.2335811  10.73413555 11.08469563\n",
      " 10.63241145 10.60812444 10.71541368 10.25416525 10.26967855 10.5347017\n",
      " 10.46121558 10.40502689 10.80208687 10.5483863  10.64396078 10.77790938\n",
      " 10.92137732 10.5897502  10.4540603  10.51853568 10.68194595 10.0557313\n",
      " 10.77230879 10.79133365 10.42193546 10.70567241 10.26492022 10.63805844\n",
      " 10.49374099 10.61760724 10.60129255 10.61248887 10.37380285 10.89072758\n",
      " 10.61441198 10.3729899  10.67007255 10.40132513]\n"
     ]
    }
   ],
   "source": [
    "buf2 = np.zeros((100,2),dtype = float)\n",
    "r_seed = 1812\n",
    "num_samples = 5000\n",
    "\n",
    "for i in range(100):\n",
    "    buf2[i] = ISp(num_samples,r_seed+i)\n",
    "    \n",
    "print(buf2[:,0])"
   ]
  },
  {
   "cell_type": "code",
   "execution_count": 142,
   "metadata": {},
   "outputs": [
    {
     "data": {
      "image/png": "[encoded data removed]",
      "text/plain": [
       "<Figure size 432x288 with 1 Axes>"
      ]
     },
     "metadata": {
      "needs_background": "light"
     },
     "output_type": "display_data"
    }
   ],
   "source": [
    "%matplotlib inline\n",
    "ax = sns.boxplot(x = buf2[:,0])\n",
    "plt.show()"
   ]
  },
  {
   "cell_type": "code",
   "execution_count": null,
   "metadata": {},
   "outputs": [],
   "source": []
  }
 ],
 "metadata": {
  "kernelspec": {
   "display_name": "Python 3",
   "language": "python",
   "name": "python3"
  },
  "language_info": {
   "codemirror_mode": {
    "name": "ipython",
    "version": 3
   },
   "file_extension": ".py",
   "mimetype": "text/x-python",
   "name": "python",
   "nbconvert_exporter": "python",
   "pygments_lexer": "ipython3",
   "version": "3.8.3"
  }
 },
 "nbformat": 4,
 "nbformat_minor": 4
}
